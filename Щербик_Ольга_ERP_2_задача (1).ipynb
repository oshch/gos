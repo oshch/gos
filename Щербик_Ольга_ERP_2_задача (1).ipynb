{
  "nbformat": 4,
  "nbformat_minor": 0,
  "metadata": {
    "colab": {
      "name": "Щербик Ольга_ERP_2 задача.ipynb",
      "provenance": [],
      "collapsed_sections": []
    },
    "kernelspec": {
      "name": "python3",
      "display_name": "Python 3"
    }
  },
  "cells": [
    {
      "cell_type": "code",
      "metadata": {
        "colab": {
          "base_uri": "https://localhost:8080/"
        },
        "id": "AC7VCyIlXlkU",
        "outputId": "5961c60b-4d07-49c3-db45-94158876ac7f"
      },
      "source": [
        "!pip install psycopg2-binary\r\n",
        "!apt install postgresql postgresql-contrib &>log\r\n",
        "!service postgresql start\r\n",
        "!sudo -u postgres psql -c \"CREATE USER root WITH SUPERUSER \"\r\n",
        "!sudo -u postgres psql -c \"CREATE DATABASE test6\""
      ],
      "execution_count": 446,
      "outputs": [
        {
          "output_type": "stream",
          "text": [
            "Requirement already satisfied: psycopg2-binary in /usr/local/lib/python3.6/dist-packages (2.8.6)\n",
            " * Starting PostgreSQL 10 database server\n",
            "   ...done.\n",
            "ERROR:  role \"root\" already exists\n",
            "ERROR:  database \"test6\" already exists\n"
          ],
          "name": "stdout"
        }
      ]
    },
    {
      "cell_type": "code",
      "metadata": {
        "id": "lHmVpiN8XqVv"
      },
      "source": [
        "import psycopg2\r\n",
        "import pandas as pd\r\n",
        "import numpy as np\r\n",
        "from array import array\r\n",
        "import random\r\n",
        "adm_role = \"ADMIN\"\r\n",
        "user_role = \"USER\""
      ],
      "execution_count": 447,
      "outputs": []
    },
    {
      "cell_type": "markdown",
      "metadata": {
        "id": "kVpzdoRArqcB"
      },
      "source": [
        "Так как в задании не было всех требований к ведению ролевой модели, то считаем, что роли ведутся организационным способом вручную. То есть считаем, что все роли добавляет АИБ вручную и что он  следит за их корректностью.\r\n",
        "\r\n",
        "Аналогично для списка товаров (кофе)\r\n",
        "\r\n",
        "PS если останется время, то смогу добавить проверки на корректность."
      ]
    },
    {
      "cell_type": "code",
      "metadata": {
        "id": "leKeV1ydaURX"
      },
      "source": [
        "class CoffeeHouse:\r\n",
        "  #функции для запуска скриптов\r\n",
        "  def __execute_sql_script(self, s):\r\n",
        "    cursor = self.__conn.cursor()\r\n",
        "    try:\r\n",
        "      cursor.execute(s)\r\n",
        "    finally:\r\n",
        "      self.__conn.commit()\r\n",
        "      cursor.close()\r\n",
        "  def __execute_sql_script_and_return_result(self, s):\r\n",
        "    cursor = self.__conn.cursor()\r\n",
        "    try:\r\n",
        "      cursor.execute(s)\r\n",
        "      data=cursor.fetchall()\r\n",
        "    finally:\r\n",
        "      self.__conn.commit()\r\n",
        "      cursor.close()\r\n",
        "    return data\r\n",
        "  def __drop_table(self, table_name):\r\n",
        "    cursor = self.__conn.cursor()\r\n",
        "    q = \"drop table if exists \" + table_name + \";\"\r\n",
        "    try:\r\n",
        "      cursor.execute(q)\r\n",
        "    finally:\r\n",
        "      cursor.close()\r\n",
        "      self.__conn.commit()\r\n",
        "  #функции для добавления записей в таблицы + функция вывода всех данных из таблицы\r\n",
        "  def __create_insert_query(self, table_name, values):\r\n",
        "    sql_query=\"insert into \" + table_name + \" values(\"\r\n",
        "    for v in values: \r\n",
        "      type_v = str(type(v))\r\n",
        "      str_v = str(v)\r\n",
        "      #print(type_v.find(\"str\"))\r\n",
        "      #print(str_v)\r\n",
        "      if type_v.find(\"str\") != -1:\r\n",
        "        sql_query += '\\''\r\n",
        "      sql_query += str_v\r\n",
        "      if type_v.find(\"str\") != -1:\r\n",
        "        sql_query += '\\''\r\n",
        "      sql_query += \", \"\r\n",
        "    sql_query = sql_query[:-2]\r\n",
        "    sql_query += \");\";\r\n",
        "    return sql_query\r\n",
        "  def __insert_into_table(self, table_name, values):\r\n",
        "      q = self.__create_insert_query(table_name, values)\r\n",
        "      #print(q)\r\n",
        "      cursor = self.__conn.cursor()\r\n",
        "      cursor.execute(q)\r\n",
        "      cursor.close()\r\n",
        "      self.__conn.commit()\r\n",
        "  def __print_all_data_from_table(self, table_name):\r\n",
        "    cursor = self.__conn.cursor()\r\n",
        "    q = \"select * from \" + table_name + \";\"\r\n",
        "    cursor.execute(q)\r\n",
        "    data=cursor.fetchall()\r\n",
        "    print(data)\r\n",
        "    cursor.close()\r\n",
        "    self.__conn.commit()\r\n",
        "\r\n",
        "  #функции для заполнения таблицы с ролями\r\n",
        "  def __get_max_value(self, table_name, column):\r\n",
        "    q = \"select max(\" + column + \") from \" + table_name + \";\"\r\n",
        "    #print(q)\r\n",
        "    tmp_res = self.__execute_sql_script_and_return_result(q)\r\n",
        "    #print(tmp_res[0][0])\r\n",
        "    return tmp_res[0][0]\r\n",
        "    \r\n",
        "\r\n",
        "  def __get_next_id(self, table_name, column=\"id\"):\r\n",
        "    id = self.__get_max_value(table_name, column)\r\n",
        "    if not id:\r\n",
        "      id = 1\r\n",
        "    else:\r\n",
        "      id += 1\r\n",
        "    return id\r\n",
        "\r\n",
        "  def __add_new_person(self, name, login, psw, role):\r\n",
        "    id = self.__get_next_id(\"staff\", \"id\")\r\n",
        "    q = \"insert into staff (id, login, psw, role, name, t_start, t_end) values(\" + str(id) + \", '\" + login + \"', '\" + psw + \"', '\" + role+ \"', '\" + name + \"', CURRENT_TIMESTAMP, NULL);\"\r\n",
        "    self.__execute_sql_script(q)\r\n",
        "    #print(q)  \r\n",
        "\r\n",
        "  #Функция для проверки роли пользователя\r\n",
        "  def __get_role(self, id):\r\n",
        "    q = \"select role from staff where id = \" + str(id) + \";\"\r\n",
        "    #print(q)\r\n",
        "    tmp_res = self.__execute_sql_script_and_return_result(q)\r\n",
        "    if len(tmp_res) == 0:\r\n",
        "      return \"\"\r\n",
        "    return tmp_res[0][0] \r\n",
        "\r\n",
        "  def __start_shift(self, staff_id):\r\n",
        "    #проверить есть ли у пользователя права па запуск смены\r\n",
        "    if self.__get_role(staff_id) != user_role:\r\n",
        "      return (False, \"У вас нет прав на откртытие/закрытие новой смены. Для обновления прав доступа обратитесь к АИБ системы\")\r\n",
        "    #проверить есть ли для этого id уже запущена смена\r\n",
        "    tmp_res = self.__execute_sql_script_and_return_result(\"select max(t_start) from shift where shift.staff_id = \" + str(staff_id) + \" and t_end is NULL;\")\r\n",
        "    if not tmp_res[0][0]:\r\n",
        "      id = self.__get_next_id(\"shift\", \"id\")\r\n",
        "      q = \"insert into shift (id, staff_id, t_start, t_end) values(\" + str(id) + \", \" + str(staff_id) + \", CURRENT_TIMESTAMP, NULL);\"\r\n",
        "      self.__execute_sql_script(q)\r\n",
        "      return (True, q)\r\n",
        "    else:\r\n",
        "      return (False, \"Ваша смена уже запущена\") \r\n",
        "\r\n",
        "  def __close_shift(self, staff_id):\r\n",
        "    #проверить есть ли у пользователя права па запуск смены\r\n",
        "    if self.__get_role(staff_id) != user_role:\r\n",
        "      return (False, \"У вас нет прав на откртытие/закрытие новой смены. Для обновления прав доступа обратитесь к АИБ системы\")\r\n",
        "    #проверяем, что у данного пользователя есть запущенная смена\r\n",
        "    tmp_res = self.__execute_sql_script_and_return_result(\"select id, max(t_start) from shift where shift.staff_id = \" + str(staff_id) + \" and t_end is NULL GROUP BY id;\")\r\n",
        "    #print(tmp_res)\r\n",
        "    if len(tmp_res) != 0:\r\n",
        "      q = \"update shift set t_end = CURRENT_TIMESTAMP where staff_id = \" + str(staff_id) + \" and t_end is NULL;\"\r\n",
        "      self.__execute_sql_script(q)\r\n",
        "      return (True, q)\r\n",
        "    else:\r\n",
        "      return (False, \"У вас нет запущенных смен\")\r\n",
        "\r\n",
        "  def __add_new_type_of_coffee(self, name, price, desc = \"\"):\r\n",
        "    id = self.__get_next_id(\"types_of_coffee\", \"id\")\r\n",
        "    q = \"insert into types_of_coffee (id, name, price, description, t_start, t_end) values (\" + str(id) + \", '\" + name + \"', \" + str(price) + \", '\" + desc + \"', CURRENT_TIMESTAMP, NULL);\"\r\n",
        "    #print(q)\r\n",
        "    self.__execute_sql_script(q)\r\n",
        "  \r\n",
        "  def __union_orders(self, arr):\r\n",
        "    c = dict()\r\n",
        "    for i in arr:\r\n",
        "      #print(i)\r\n",
        "      if (len(i) == 1):\r\n",
        "        cnt = 0\r\n",
        "      else:\r\n",
        "        cnt = i[1]\r\n",
        "      if i[0] in c.keys():\r\n",
        "        c[i[0]] += cnt\r\n",
        "      else: \r\n",
        "        c[i[0]] = cnt\r\n",
        "    res = [[i, c[i]] for i in c.keys()]\r\n",
        "    return res\r\n",
        "    \r\n",
        "  def __make_order(self, staff_id, order=[]):\r\n",
        "    order = self.__union_orders(order)\r\n",
        "    #проверить есть ли у пользователя права на введение заказа\r\n",
        "    if self.__get_role(staff_id) != user_role:\r\n",
        "      return (False, \"У вас нет прав на создлание заказа. Для обновления прав доступа обратитесь к АИБ системы\")\r\n",
        "    #проверяем, что у пользователя есть запущенная смена\r\n",
        "    tmp_res = self.__execute_sql_script_and_return_result(\"select id from shift where shift.staff_id = \" + str(staff_id) + \" and t_end is NULL;\")\r\n",
        "    #print(tmp_res)\r\n",
        "    non_existent_coffee = []\r\n",
        "    existent_coffee = []\r\n",
        "    if len(tmp_res) != 0:\r\n",
        "      for o in order:\r\n",
        "        #print(o)\r\n",
        "        #проверяем, что такой кофе существует \r\n",
        "        coffee = self.__execute_sql_script_and_return_result(\"select id from types_of_coffee where types_of_coffee.id = \" + str(o[0]) + \" and t_end is NULL;\")\r\n",
        "      # print(coffee)\r\n",
        "        if len(coffee) != 0:\r\n",
        "          existent_coffee.append(o)\r\n",
        "        else:\r\n",
        "          non_existent_coffee.append(o)\r\n",
        "      if len(non_existent_coffee) != 0:\r\n",
        "        res = \"Следующих видов кофе нет в меню (id): \"\r\n",
        "        for c in non_existent_coffee:\r\n",
        "          res += str(c[0])\r\n",
        "          res += \", \"\r\n",
        "        res = res[:-2]\r\n",
        "        res += \". Обновите меню или заказ\"\r\n",
        "        return (False, res)\r\n",
        "      else:\r\n",
        "        shift_id = self.__execute_sql_script_and_return_result(\"select id from shift where shift.staff_id = \" + str(staff_id) + \" and t_end is NULL;\")[0][0]\r\n",
        "        #print(shift_id)\r\n",
        "        id = self.__get_next_id(\"sales\", \"id\")\r\n",
        "        #print(id)\r\n",
        "        # ПОДУМАТЬ\r\n",
        "        ex_q = []\r\n",
        "        for c in existent_coffee:\r\n",
        "          q = \"insert into sales (id, item_id, id_shift, cnt, time) values (\" + str(id) + \", \" + str(c[0]) + \", \" + str(shift_id) + \", \" + str(c[1]) + \", CURRENT_TIMESTAMP);\"\r\n",
        "          #print(q)\r\n",
        "          self.__execute_sql_script(q)\r\n",
        "          ex_q.append(q)\r\n",
        "          #print(c)\r\n",
        "\r\n",
        "        #q = insert()\r\n",
        "        return (True, ex_q)\r\n",
        "    else:\r\n",
        "      return (False, \"У вас нет запущенных смен. Для формирования заказа запустите смену\")\r\n",
        "\r\n",
        "  def __make_str_for_request(self, arr):\r\n",
        "    if len(arr) > 0:\r\n",
        "      str_arr = \"\"\r\n",
        "      for id in arr:\r\n",
        "          str_arr += str(id)\r\n",
        "          str_arr += \", \" \r\n",
        "      return str_arr[:-2]\r\n",
        "    else: \r\n",
        "      return \"\"\r\n",
        "\r\n",
        "  def __get_sales(self, staff_id, cashiers_id, shifts_id, items_id):\r\n",
        "    if len(cashiers_id) == 0:\r\n",
        "      cashiers_id = [c[0] for c in self.__execute_sql_script_and_return_result(\"select distinct id from staff\")]\r\n",
        "    if len(shifts_id) == 0:\r\n",
        "      shifts_id = [c[0] for c in self.__execute_sql_script_and_return_result(\"select distinct id from shift\")]\r\n",
        "   \r\n",
        "    if len(items_id) == 0:\r\n",
        "      items_id = [c[0] for c in self.__execute_sql_script_and_return_result(\"select distinct id from types_of_coffee\")]\r\n",
        "    if self.__get_role(staff_id) != adm_role:\r\n",
        "      return (False, \"У вас нет прав на создлание заказа. Для обновления прав доступа обратитесь к АИБ системы\")\r\n",
        "    q = \"select id from shift where staff_id in (\" + self.__make_str_for_request(cashiers_id) + \");\"\r\n",
        "    cashiers_shifts_id = self.__execute_sql_script_and_return_result(q)\r\n",
        "    final_shifts_id = set(shifts_id)\r\n",
        "    for c in cashiers_shifts_id:\r\n",
        "      final_shifts_id.add(c[0])\r\n",
        "    #print(final_shifts_id)\r\n",
        "    str_items_id = self.__make_str_for_request(items_id)\r\n",
        "    str_shifts_id = self.__make_str_for_request(final_shifts_id)\r\n",
        "    str_cashiers_id = self.__make_str_for_request(cashiers_id)\r\n",
        "    #print(cashiers_id)\r\n",
        "    #print(final_shifts_id)\r\n",
        "    #print(items_id)\r\n",
        "\r\n",
        "    q = \"\"\"select a.id as id,\r\n",
        "                  a.item_id as item_id, \r\n",
        "                  types_of_coffee.name as name, \r\n",
        "                  a.id_shift as id_shift,\r\n",
        "                  a.cnt as cnt, \r\n",
        "                  a.time as time from (select distinct * from sales where id_shift in (\"\"\"\r\n",
        "    q += str_shifts_id + \") and item_id in (\" + str_items_id \r\n",
        "    q += \"\"\")) as a INNER JOIN types_of_coffee ON types_of_coffee.id = a.item_id;\"\"\"\r\n",
        "    q2 = \"\"\"select b.id as id,\r\n",
        "                  b.item_id as item_id, \r\n",
        "                  b.name as name, \r\n",
        "                  b.id_shift as id_shift,\r\n",
        "                  b.cnt as cnt, \r\n",
        "                  b.time as time,\r\n",
        "                  shift.staff_id as staff_id\r\n",
        "                  from (\"\"\" \r\n",
        "    q2 += q[:-1] + \") as b Inner join shift on b.id_shift = shift.id;\"\r\n",
        "\r\n",
        "    #print(execute_sql_script_and_return_result(q2))\r\n",
        "\r\n",
        "    q3 = \"\"\"select c.id as sale_id,\r\n",
        "                  c.item_id as item_id, \r\n",
        "                  c.name as item_name, \r\n",
        "                  c.id_shift as id_shift,\r\n",
        "                  c.cnt as cnt_items, \r\n",
        "                  c.time as sell_time,\r\n",
        "                  c.staff_id as staff_id,\r\n",
        "                  staff.name as staff_name,\r\n",
        "                  staff.role as staff_role\r\n",
        "                  from (\"\"\" \r\n",
        "    q3 += q2[:-1] + \") as c Inner join staff on c.staff_id = staff.id where c.staff_id in (\" + str_cashiers_id + \");\"\r\n",
        "\r\n",
        "    \r\n",
        "    res_sales = [c for c in self.__execute_sql_script_and_return_result(q3)];\r\n",
        "    titles = (\"sale_id\",\"item_id\", \"item_name\", \"id_shift\", \"cnt_items\", \"sell_time\", \"staff_id\", \"staff_name\", \"staff_role\")\r\n",
        "    #tmp = tuple(get_column_name('sales'))\r\n",
        "    res_sales.insert(0, titles)    \r\n",
        "    return (True, res_sales)\r\n",
        "\r\n",
        "  def __clear_table(self, table_name):\r\n",
        "    cursor = self.__conn.cursor()\r\n",
        "    q = \"truncate table \" + table_name + \" cascade;\"\r\n",
        "    try:\r\n",
        "      cursor.execute(q)\r\n",
        "    finally:\r\n",
        "      cursor.close()\r\n",
        "      self.__conn.commit()\r\n",
        "\r\n",
        "  def __init__(self):\r\n",
        "    self.__is_start_session = False\r\n",
        "    self.__current_id = -1\r\n",
        "    self.__conn = psycopg2.connect(dbname=\"test6\", user=\"root\")\r\n",
        "    self.__execute_sql_script(\"create table if not exists staff (id integer, login varchar, psw varchar, role varchar, name varchar, primary key (id), t_start date, t_end date);\")\r\n",
        "    self.__execute_sql_script(\"create table if not exists shift (id integer, t_start date, t_end date, staff_id integer, primary key (id), FOREIGN KEY (staff_id) REFERENCES staff (id))\")\r\n",
        "    self.__execute_sql_script(\"create table if not exists sales (id integer, item_id integer, id_shift integer, cnt integer, time date, FOREIGN KEY (id_shift) REFERENCES shift (id));\")\r\n",
        "    self.__execute_sql_script(\"create table if not exists types_of_coffee (id integer, name varchar, price integer, description varchar, primary key (id), t_start date, t_end date);\")\r\n",
        "    self.__execute_sql_script(\"create table if not exists sessions(id integer, login varchar, primary key (id), t_start date, t_end date);\")\r\n",
        "    self.clear_all_tables()\r\n",
        "  def create_test_data(self):\r\n",
        "    #создаем пользователей\r\n",
        "    self.__add_new_person(\"Петя\", \"admin\", \"admin\", \"ADMIN\")\r\n",
        "    self.__add_new_person(\"Петя1\", \"admin1\", \"admin\", \"ADMIN\")\r\n",
        "    self.__add_new_person(\"Вася\", \"user\", \"user\", \"USER\")\r\n",
        "    self.__add_new_person(\"Коля\", \"user1\", \"user\", \"USER\")\r\n",
        "    self.__add_new_person(\"Коля1\", \"user2\", \"user\", \"USER\")\r\n",
        "    self.__add_new_person(\"Коля2\", \"user3\", \"user\", \"USER\")\r\n",
        "    self.__add_new_person(\"Коля3\", \"user4\", \"user\", \"USER\")\r\n",
        "    #создаем открытие и закрытия смен\r\n",
        "    for i in range(1, 8):\r\n",
        "      for j in range(1, 10):\r\n",
        "        с = random.randint(1, 2)\r\n",
        "        if (с == 1):\r\n",
        "          self.__close_shift(i)\r\n",
        "        else:\r\n",
        "          self.__start_shift(i)\r\n",
        "    #добавляем виды кофе (за уникальностью id и наполнением таблицы следит оператор/АИБ, от системы в задании этого не требовалось)\r\n",
        "    self.__add_new_type_of_coffee(\"Латте\", 150, \"хороший  Латте\")\r\n",
        "    self.__add_new_type_of_coffee(\"Эспрессо\", 100, \"хороший  Эспрессо\")\r\n",
        "    self.__add_new_type_of_coffee(\"Капучино\", 150, \"хороший  Капучино\")\r\n",
        "    self.__add_new_type_of_coffee(\"Американо\", 100, \"хороший  Американо\")\r\n",
        "    #добавляем заказы\r\n",
        "    self.__make_order(3, [[1, 3], [2, 5], [3, 4]])\r\n",
        "    self.__make_order(7, [[1, 3], [2, 15], [3, 4]])\r\n",
        "    self.__make_order(3, [[1, 3], [4, 55], [3]])\r\n",
        "    self.__make_order(4, [[4, 3], [2, 5], [3]])\r\n",
        "    return(True, \"ок\")\r\n",
        "\r\n",
        "  def start_session(self, login, psw):\r\n",
        "    if self.__is_start_session:\r\n",
        "      return (False, \"Закройте предыдущую сессию. После чего вы сможете запустить новую\")\r\n",
        "    else:\r\n",
        "      q = \"select id, psw from staff where login = '\" + login + \"';\"\r\n",
        "      #print(q)\r\n",
        "      user = self.__execute_sql_script_and_return_result(q)\r\n",
        "      #print(user)\r\n",
        "      if len(user) == 0:\r\n",
        "        return (False, \"Данного пользователя нет в системе. Обратитесь к АИБ\")\r\n",
        "      if user[0][1] != psw: #считаем, что результат 1, так как таблица staff ведется вручную \r\n",
        "        return (False, \"Неверный пароль\")\r\n",
        "      id = self.__get_next_id(\"sessions\")\r\n",
        "      self.__current_id = user[0][0]\r\n",
        "      self.__is_start_session = True\r\n",
        "      q = \"insert into sessions (id, login, t_start, t_end) values (\" + str(id) + \", '\" + login +  \"', CURRENT_TIMESTAMP, NULL);\"\r\n",
        "      #print(q)\r\n",
        "      self.__execute_sql_script(q)\r\n",
        "      return (True, \"\")\r\n",
        "\r\n",
        "  \r\n",
        "  def close_session(self):\r\n",
        "    if not self.__is_start_session:\r\n",
        "      return (False, \" сессия не открыта\")     \r\n",
        "    else:\r\n",
        "      tmp = self.__close_shift(self.__current_id)\r\n",
        "      q = \"update sessions set t_end = CURRENT_TIMESTAMP where id = \" + str(self.__current_id) + \";\"\r\n",
        "      self.__execute_sql_script(q)\r\n",
        "      self.__current_id = -1\r\n",
        "      self.__is_start_session = False\r\n",
        "      return(True, \"\")\r\n",
        "  #def print_all_staff(self):\r\n",
        "  #  self.__print_all_data_from_table(\"staff\")\r\n",
        "  #def print_all_type_of_coffee(self):\r\n",
        "  #  self.__print_all_data_from_table(\"types_of_coffee\")\r\n",
        "  #def print_all_shift(self):\r\n",
        "  #  self.__print_all_data_from_table(\"shift\")\r\n",
        "  #def print_all_sessions(self):\r\n",
        "  #  self.__print_all_data_from_table(\"sessions\")\r\n",
        "  #def print_all_sales(self):\r\n",
        "  #  self.__print_all_data_from_table(\"sales\")\r\n",
        "  def clear_all_tables(self):\r\n",
        "    self.__clear_table(\"sales\")\r\n",
        "    self.__clear_table(\"shift\")\r\n",
        "    self.__clear_table(\"staff\")\r\n",
        "    self.__clear_table(\"types_of_coffee\")\r\n",
        "    self.__clear_table(\"sessions\")\r\n",
        "  def fix_connection(self):\r\n",
        "    curs = self.__conn.cursor()\r\n",
        "    curs.execute(\"ROLLBACK\")\r\n",
        "    self.__conn.commit()\r\n",
        "  def start_shift(self):\r\n",
        "    if not self.__is_start_session: \r\n",
        "      return (False, \"Сессия не открыта. Перед тем, как открыть смену, запустите сесиию\")    \r\n",
        "    return self.__start_shift(self.__current_id)\r\n",
        "  def close_shift(self):\r\n",
        "    if not self.__is_start_session: \r\n",
        "      return (False, \"Сессия не открыта. Перед тем, как закрыть смену, запустите сесиию\")    \r\n",
        "    return self.__close_shift(self.__current_id)\r\n",
        "  def make_order(self, arr):\r\n",
        "     if not self.__is_start_session: \r\n",
        "      return (False, \"Сессия не открыта. Перед тем, как закрыть смену, запустите сесиию\")    \r\n",
        "     return self.__make_order(self.__current_id, arr)\r\n",
        "  def get_sales(self, cashiers_id, shifts_id, items_id):\r\n",
        "    if not self.__is_start_session: \r\n",
        "      return (False, \"Сессия не открыта. Перед тем, как закрыть смену, запустите сесиию\")\r\n",
        "    return self.__get_sales(self.__current_id, cashiers_id, shifts_id, items_id)"
      ],
      "execution_count": 583,
      "outputs": []
    },
    {
      "cell_type": "markdown",
      "metadata": {
        "id": "Hh-3c7KAfLHw"
      },
      "source": [
        "Как работать с данным ноутбуком:\r\n",
        "0. Создаем экземпляр системы учеты для киоска продажи кофе\r\n",
        "1. Логинимся\r\n",
        "\r\n",
        "  Тестово созданы следующие пользователи (login/psw):  \r\n",
        "  - администраторы: admin/admin, admin1/admin; \r\n",
        "  - пользователи (кассиры): user/user, user1/user, user2/user, user3/user, user4/user.\r\n",
        "\r\n",
        "Пример авторизации: ch.start_session(\"user\", \"user\") \r\n",
        "\r\n",
        "3. Для каждого типа пользователей доступны свои функции. \r\n",
        "\r\n",
        "Для пользователей (кассиров):\r\n",
        "  - запуск смены ( ch.start_shift() )\r\n",
        "  - завершение смены ( ch.close_shift() )\r\n",
        "  - оформить заказ ( ch.make_order([array]) )\r\n",
        "    * функция make_order принимает на вход из заказов\r\n",
        "    * заказ может быть: \r\n",
        "     * одноэлементным массивом с id заказанного кофе;\r\n",
        "     * двухэлементным массивом с id заказанного кофе и его количеством;\r\n",
        "    * таким образом ch.make_order([[1],[4,1],[3, 4]]) это заказ:\r\n",
        "      * 1 кофе с id = 1\r\n",
        "      * 1 кофе с id = 4\r\n",
        "      * 4 чашки кофе с id = 3\r\n",
        "  - функция просмотра всех заказов (get_sales) пользователю (кассиру) не доступна.\r\n",
        "  \r\n",
        "Для администраторов:\r\n",
        "  - не доступны функции кассира (см выше)\r\n",
        "  - доступна функция просмотра списка продаж с фильтрами\r\n",
        "\r\n",
        "      ch.get_sales(staff_id, shifts_id, items_id), где\r\n",
        "      * staff_id - массив id кассиров, по которым будет делаться выборка при формировании перечня заказов \r\n",
        "      * shifts_id - массив id смен кассиров, по которым будет делаться выборка при формировании перечня заказов \r\n",
        "      * shiftitems_id - массив id товаров (кофе), по которым будет делаться выборка при формировании перечня заказов\r\n",
        "\r\n",
        "    Между условиями стоит конкатенация.\r\n",
        "\r\n",
        "    Если вместо массива передавать пустой массив, то будет сделана выборка по всем возможным кассирам, сменам, товарам.\r\n",
        "\r\n",
        "    Примеры:\r\n",
        "\r\n",
        "      * ch.get_sales([6,4],[1,3],[4,2]) - список товаров с id 4 или 2, которые продали кассиры с id 6 или 4 во время смен 1 или 3\r\n",
        "      * ch.get_sales([],[],[]) - список всех покупок\r\n",
        "\r\n",
        "    В результате в первом элементе выводятся id столбцов, после чего сами записи о продажах.\r\n",
        "\r\n",
        "  PS: таблицы с видами кофе (types_of_coffe) и с пользователями (staff) не ведутся автоматически (в задании этого не требовалось). Поэтому можно считать, что они ведутся организационным образом владельцем кафе/АИБами системы."
      ]
    },
    {
      "cell_type": "code",
      "metadata": {
        "colab": {
          "base_uri": "https://localhost:8080/"
        },
        "id": "rQeWF5pOGa4F",
        "outputId": "2b982443-9c8e-4014-9591-0794b9e229a5"
      },
      "source": [
        "# создаем систему для киоска продажи кофе и заполняем ее тестовыми данными\r\n",
        "ch = CoffeeHouse()\r\n",
        "ch.create_test_data()"
      ],
      "execution_count": 596,
      "outputs": [
        {
          "output_type": "execute_result",
          "data": {
            "text/plain": [
              "(True, 'ок')"
            ]
          },
          "metadata": {
            "tags": []
          },
          "execution_count": 596
        }
      ]
    },
    {
      "cell_type": "code",
      "metadata": {
        "colab": {
          "base_uri": "https://localhost:8080/"
        },
        "id": "2Q7pEuVmdRuZ",
        "outputId": "6090a79b-2610-408c-96f0-4420a86c0d6c"
      },
      "source": [
        "#логинимся от кассира\r\n",
        "ch.start_session(\"user\", \"user\")"
      ],
      "execution_count": 597,
      "outputs": [
        {
          "output_type": "execute_result",
          "data": {
            "text/plain": [
              "(True, '')"
            ]
          },
          "metadata": {
            "tags": []
          },
          "execution_count": 597
        }
      ]
    },
    {
      "cell_type": "code",
      "metadata": {
        "colab": {
          "base_uri": "https://localhost:8080/"
        },
        "id": "YmZ-r5b6pFak",
        "outputId": "19c300bb-ac47-4fd0-c3be-e1d4a767c25e"
      },
      "source": [
        "#проверяем, что второй подряд логин не работает\r\n",
        "ch.start_session(\"user\", \"user\")"
      ],
      "execution_count": 598,
      "outputs": [
        {
          "output_type": "execute_result",
          "data": {
            "text/plain": [
              "(False, 'Закройте предыдущую сессию. После чего вы сможете запустить новую')"
            ]
          },
          "metadata": {
            "tags": []
          },
          "execution_count": 598
        }
      ]
    },
    {
      "cell_type": "code",
      "metadata": {
        "colab": {
          "base_uri": "https://localhost:8080/"
        },
        "id": "YS55c-xkpRG7",
        "outputId": "da158a82-7251-4caf-df2e-82bda9c22534"
      },
      "source": [
        "#запускаем смену \r\n",
        "ch.start_shift()"
      ],
      "execution_count": 599,
      "outputs": [
        {
          "output_type": "execute_result",
          "data": {
            "text/plain": [
              "(False, 'Ваша смена уже запущена')"
            ]
          },
          "metadata": {
            "tags": []
          },
          "execution_count": 599
        }
      ]
    },
    {
      "cell_type": "markdown",
      "metadata": {
        "id": "QHQ_VUiApj3A"
      },
      "source": [
        "Она уже была запущена во время генерации тестовых данных"
      ]
    },
    {
      "cell_type": "code",
      "metadata": {
        "id": "v7dwJacYFzDp",
        "colab": {
          "base_uri": "https://localhost:8080/"
        },
        "outputId": "6924c117-1ef3-4525-daaa-10b6290ecac2"
      },
      "source": [
        "#делаем заказ\r\n",
        "ch.make_order([[1],[2,1],[3]])"
      ],
      "execution_count": 601,
      "outputs": [
        {
          "output_type": "execute_result",
          "data": {
            "text/plain": [
              "(True,\n",
              " ['insert into sales (id, item_id, id_shift, cnt, time) values (4, 1, 3, 0, CURRENT_TIMESTAMP);',\n",
              "  'insert into sales (id, item_id, id_shift, cnt, time) values (4, 2, 3, 1, CURRENT_TIMESTAMP);',\n",
              "  'insert into sales (id, item_id, id_shift, cnt, time) values (4, 3, 3, 0, CURRENT_TIMESTAMP);'])"
            ]
          },
          "metadata": {
            "tags": []
          },
          "execution_count": 601
        }
      ]
    },
    {
      "cell_type": "code",
      "metadata": {
        "id": "5xyqrPI_QEhz",
        "colab": {
          "base_uri": "https://localhost:8080/"
        },
        "outputId": "a51bffd3-b581-4467-bb83-9ffedaef15bc"
      },
      "source": [
        "ch.make_order([[4,20],[3,1],[3]])"
      ],
      "execution_count": 602,
      "outputs": [
        {
          "output_type": "execute_result",
          "data": {
            "text/plain": [
              "(True,\n",
              " ['insert into sales (id, item_id, id_shift, cnt, time) values (5, 4, 3, 20, CURRENT_TIMESTAMP);',\n",
              "  'insert into sales (id, item_id, id_shift, cnt, time) values (5, 3, 3, 1, CURRENT_TIMESTAMP);'])"
            ]
          },
          "metadata": {
            "tags": []
          },
          "execution_count": 602
        }
      ]
    },
    {
      "cell_type": "code",
      "metadata": {
        "colab": {
          "base_uri": "https://localhost:8080/"
        },
        "id": "AYcAZS3XF2J-",
        "outputId": "71388417-ce9a-42ac-e131-4897508afac1"
      },
      "source": [
        "#проверяем, что не можем посмотреть все продажи функцией админимтратора\r\n",
        "ch.get_sales([],[],[1])"
      ],
      "execution_count": 604,
      "outputs": [
        {
          "output_type": "execute_result",
          "data": {
            "text/plain": [
              "(False,\n",
              " 'У вас нет прав на создлание заказа. Для обновления прав доступа обратитесь к АИБ системы')"
            ]
          },
          "metadata": {
            "tags": []
          },
          "execution_count": 604
        }
      ]
    },
    {
      "cell_type": "code",
      "metadata": {
        "colab": {
          "base_uri": "https://localhost:8080/"
        },
        "id": "fYgIHEXkWFnN",
        "outputId": "93c50c85-786c-4e6a-c2ee-2503ce4daa41"
      },
      "source": [
        "#закрываем смену\r\n",
        "ch.close_shift()"
      ],
      "execution_count": 605,
      "outputs": [
        {
          "output_type": "execute_result",
          "data": {
            "text/plain": [
              "(True,\n",
              " 'update shift set t_end = CURRENT_TIMESTAMP where staff_id = 3 and t_end is NULL;')"
            ]
          },
          "metadata": {
            "tags": []
          },
          "execution_count": 605
        }
      ]
    },
    {
      "cell_type": "code",
      "metadata": {
        "colab": {
          "base_uri": "https://localhost:8080/"
        },
        "id": "MdzcYTpzW6yn",
        "outputId": "3d40955b-f8a7-45f3-ead5-57c90393b9cd"
      },
      "source": [
        "#закрываем сессию\r\n",
        "ch.close_session()"
      ],
      "execution_count": 606,
      "outputs": [
        {
          "output_type": "execute_result",
          "data": {
            "text/plain": [
              "(True, '')"
            ]
          },
          "metadata": {
            "tags": []
          },
          "execution_count": 606
        }
      ]
    },
    {
      "cell_type": "code",
      "metadata": {
        "colab": {
          "base_uri": "https://localhost:8080/"
        },
        "id": "BEqJxQhmWI61",
        "outputId": "f231dd87-a0af-4514-908d-eafefa0470e2"
      },
      "source": [
        "#логинимся от администратора\r\n",
        "ch.start_session(\"admin1\", \"admin\")"
      ],
      "execution_count": 607,
      "outputs": [
        {
          "output_type": "execute_result",
          "data": {
            "text/plain": [
              "(True, '')"
            ]
          },
          "metadata": {
            "tags": []
          },
          "execution_count": 607
        }
      ]
    },
    {
      "cell_type": "code",
      "metadata": {
        "colab": {
          "base_uri": "https://localhost:8080/"
        },
        "id": "HCCN6h9bWa4r",
        "outputId": "9fa3057d-b8ba-47e8-d885-0ed8e3ebab51"
      },
      "source": [
        "#выводим заказы, оформленные кассирами 1 или 2 в любые смены для товаров 3 или 4\r\n",
        "#ch.get_sales(staff_id, shifts_id, items_id)\r\n",
        "ch.get_sales([3,1],[],[3,4])"
      ],
      "execution_count": 608,
      "outputs": [
        {
          "output_type": "execute_result",
          "data": {
            "text/plain": [
              "(True,\n",
              " [('sale_id',\n",
              "   'item_id',\n",
              "   'item_name',\n",
              "   'id_shift',\n",
              "   'cnt_items',\n",
              "   'sell_time',\n",
              "   'staff_id',\n",
              "   'staff_name',\n",
              "   'staff_role'),\n",
              "  (1, 3, 'Капучино', 3, 4, datetime.date(2021, 1, 19), 3, 'Вася', 'USER'),\n",
              "  (5, 3, 'Капучино', 3, 1, datetime.date(2021, 1, 19), 3, 'Вася', 'USER'),\n",
              "  (4, 3, 'Капучино', 3, 0, datetime.date(2021, 1, 19), 3, 'Вася', 'USER'),\n",
              "  (2, 3, 'Капучино', 3, 0, datetime.date(2021, 1, 19), 3, 'Вася', 'USER'),\n",
              "  (2, 4, 'Американо', 3, 55, datetime.date(2021, 1, 19), 3, 'Вася', 'USER'),\n",
              "  (5, 4, 'Американо', 3, 20, datetime.date(2021, 1, 19), 3, 'Вася', 'USER')])"
            ]
          },
          "metadata": {
            "tags": []
          },
          "execution_count": 608
        }
      ]
    },
    {
      "cell_type": "code",
      "metadata": {
        "colab": {
          "base_uri": "https://localhost:8080/"
        },
        "id": "Xz_CueTooQ71",
        "outputId": "bb0b58bf-b604-43e2-982f-a0b4b51d5084"
      },
      "source": [
        "#ch.get_sales(staff_id, shifts_id, items_id)\r\n",
        "#все продажи \r\n",
        "ch.get_sales([],[],[])"
      ],
      "execution_count": 609,
      "outputs": [
        {
          "output_type": "execute_result",
          "data": {
            "text/plain": [
              "(True,\n",
              " [('sale_id',\n",
              "   'item_id',\n",
              "   'item_name',\n",
              "   'id_shift',\n",
              "   'cnt_items',\n",
              "   'sell_time',\n",
              "   'staff_id',\n",
              "   'staff_name',\n",
              "   'staff_role'),\n",
              "  (1, 3, 'Капучино', 3, 4, datetime.date(2021, 1, 19), 3, 'Вася', 'USER'),\n",
              "  (5, 3, 'Капучино', 3, 1, datetime.date(2021, 1, 19), 3, 'Вася', 'USER'),\n",
              "  (2, 1, 'Латте', 3, 3, datetime.date(2021, 1, 19), 3, 'Вася', 'USER'),\n",
              "  (4, 3, 'Капучино', 3, 0, datetime.date(2021, 1, 19), 3, 'Вася', 'USER'),\n",
              "  (5, 4, 'Американо', 3, 20, datetime.date(2021, 1, 19), 3, 'Вася', 'USER'),\n",
              "  (1, 2, 'Эспрессо', 3, 5, datetime.date(2021, 1, 19), 3, 'Вася', 'USER'),\n",
              "  (4, 1, 'Латте', 3, 0, datetime.date(2021, 1, 19), 3, 'Вася', 'USER'),\n",
              "  (3, 2, 'Эспрессо', 6, 5, datetime.date(2021, 1, 19), 4, 'Коля', 'USER'),\n",
              "  (3, 3, 'Капучино', 6, 0, datetime.date(2021, 1, 19), 4, 'Коля', 'USER'),\n",
              "  (1, 1, 'Латте', 3, 3, datetime.date(2021, 1, 19), 3, 'Вася', 'USER'),\n",
              "  (2, 3, 'Капучино', 3, 0, datetime.date(2021, 1, 19), 3, 'Вася', 'USER'),\n",
              "  (2, 4, 'Американо', 3, 55, datetime.date(2021, 1, 19), 3, 'Вася', 'USER'),\n",
              "  (4, 2, 'Эспрессо', 3, 1, datetime.date(2021, 1, 19), 3, 'Вася', 'USER'),\n",
              "  (3, 4, 'Американо', 6, 3, datetime.date(2021, 1, 19), 4, 'Коля', 'USER')])"
            ]
          },
          "metadata": {
            "tags": []
          },
          "execution_count": 609
        }
      ]
    }
  ]
}